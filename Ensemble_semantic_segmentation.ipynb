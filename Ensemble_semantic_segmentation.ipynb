{
  "cells": [
    {
      "cell_type": "markdown",
      "metadata": {
        "id": "view-in-github",
        "colab_type": "text"
      },
      "source": [
        "<a href=\"https://colab.research.google.com/github/sanyakapoor27/ensemble_segmentation/blob/main/Ensemble_semantic_segmentation.ipynb\" target=\"_parent\"><img src=\"https://colab.research.google.com/assets/colab-badge.svg\" alt=\"Open In Colab\"/></a>"
      ]
    },
    {
      "cell_type": "code",
      "source": [
        "!pip install segmentation_models"
      ],
      "metadata": {
        "colab": {
          "base_uri": "https://localhost:8080/"
        },
        "id": "GFK_8OSTWJVe",
        "outputId": "dcb85e66-e38a-4be7-f20f-1afe263d45c2"
      },
      "execution_count": null,
      "outputs": [
        {
          "output_type": "stream",
          "name": "stdout",
          "text": [
            "Collecting segmentation_models\n",
            "  Downloading segmentation_models-1.0.1-py3-none-any.whl (33 kB)\n",
            "Collecting keras-applications<=1.0.8,>=1.0.7 (from segmentation_models)\n",
            "  Downloading Keras_Applications-1.0.8-py3-none-any.whl (50 kB)\n",
            "\u001b[2K     \u001b[90m━━━━━━━━━━━━━━━━━━━━━━━━━━━━━━━━━━━━━━━━\u001b[0m \u001b[32m50.7/50.7 kB\u001b[0m \u001b[31m2.7 MB/s\u001b[0m eta \u001b[36m0:00:00\u001b[0m\n",
            "\u001b[?25hCollecting image-classifiers==1.0.0 (from segmentation_models)\n",
            "  Downloading image_classifiers-1.0.0-py3-none-any.whl (19 kB)\n",
            "Collecting efficientnet==1.0.0 (from segmentation_models)\n",
            "  Downloading efficientnet-1.0.0-py3-none-any.whl (17 kB)\n",
            "Requirement already satisfied: scikit-image in /usr/local/lib/python3.10/dist-packages (from efficientnet==1.0.0->segmentation_models) (0.19.3)\n",
            "Requirement already satisfied: numpy>=1.9.1 in /usr/local/lib/python3.10/dist-packages (from keras-applications<=1.0.8,>=1.0.7->segmentation_models) (1.23.5)\n",
            "Requirement already satisfied: h5py in /usr/local/lib/python3.10/dist-packages (from keras-applications<=1.0.8,>=1.0.7->segmentation_models) (3.9.0)\n",
            "Requirement already satisfied: scipy>=1.4.1 in /usr/local/lib/python3.10/dist-packages (from scikit-image->efficientnet==1.0.0->segmentation_models) (1.11.4)\n",
            "Requirement already satisfied: networkx>=2.2 in /usr/local/lib/python3.10/dist-packages (from scikit-image->efficientnet==1.0.0->segmentation_models) (3.2.1)\n",
            "Requirement already satisfied: pillow!=7.1.0,!=7.1.1,!=8.3.0,>=6.1.0 in /usr/local/lib/python3.10/dist-packages (from scikit-image->efficientnet==1.0.0->segmentation_models) (9.4.0)\n",
            "Requirement already satisfied: imageio>=2.4.1 in /usr/local/lib/python3.10/dist-packages (from scikit-image->efficientnet==1.0.0->segmentation_models) (2.31.6)\n",
            "Requirement already satisfied: tifffile>=2019.7.26 in /usr/local/lib/python3.10/dist-packages (from scikit-image->efficientnet==1.0.0->segmentation_models) (2023.12.9)\n",
            "Requirement already satisfied: PyWavelets>=1.1.1 in /usr/local/lib/python3.10/dist-packages (from scikit-image->efficientnet==1.0.0->segmentation_models) (1.5.0)\n",
            "Requirement already satisfied: packaging>=20.0 in /usr/local/lib/python3.10/dist-packages (from scikit-image->efficientnet==1.0.0->segmentation_models) (23.2)\n",
            "Installing collected packages: keras-applications, image-classifiers, efficientnet, segmentation_models\n",
            "Successfully installed efficientnet-1.0.0 image-classifiers-1.0.0 keras-applications-1.0.8 segmentation_models-1.0.1\n"
          ]
        }
      ]
    },
    {
      "cell_type": "code",
      "execution_count": null,
      "metadata": {
        "colab": {
          "base_uri": "https://localhost:8080/"
        },
        "id": "aYOsA1egy3QD",
        "outputId": "4f257f5d-e7ed-466b-f0c7-450502b52f44"
      },
      "outputs": [
        {
          "output_type": "stream",
          "name": "stdout",
          "text": [
            "Requirement already satisfied: kaggle in /usr/local/lib/python3.10/dist-packages (1.5.16)\n",
            "Requirement already satisfied: six>=1.10 in /usr/local/lib/python3.10/dist-packages (from kaggle) (1.16.0)\n",
            "Requirement already satisfied: certifi in /usr/local/lib/python3.10/dist-packages (from kaggle) (2023.11.17)\n",
            "Requirement already satisfied: python-dateutil in /usr/local/lib/python3.10/dist-packages (from kaggle) (2.8.2)\n",
            "Requirement already satisfied: requests in /usr/local/lib/python3.10/dist-packages (from kaggle) (2.31.0)\n",
            "Requirement already satisfied: tqdm in /usr/local/lib/python3.10/dist-packages (from kaggle) (4.66.1)\n",
            "Requirement already satisfied: python-slugify in /usr/local/lib/python3.10/dist-packages (from kaggle) (8.0.1)\n",
            "Requirement already satisfied: urllib3 in /usr/local/lib/python3.10/dist-packages (from kaggle) (2.0.7)\n",
            "Requirement already satisfied: bleach in /usr/local/lib/python3.10/dist-packages (from kaggle) (6.1.0)\n",
            "Requirement already satisfied: webencodings in /usr/local/lib/python3.10/dist-packages (from bleach->kaggle) (0.5.1)\n",
            "Requirement already satisfied: text-unidecode>=1.3 in /usr/local/lib/python3.10/dist-packages (from python-slugify->kaggle) (1.3)\n",
            "Requirement already satisfied: charset-normalizer<4,>=2 in /usr/local/lib/python3.10/dist-packages (from requests->kaggle) (3.3.2)\n",
            "Requirement already satisfied: idna<4,>=2.5 in /usr/local/lib/python3.10/dist-packages (from requests->kaggle) (3.6)\n"
          ]
        }
      ],
      "source": [
        "!pip install kaggle"
      ]
    },
    {
      "cell_type": "code",
      "execution_count": null,
      "metadata": {
        "colab": {
          "base_uri": "https://localhost:8080/"
        },
        "id": "sQUUl-NFj85b",
        "outputId": "170d4288-f931-4733-9b23-6dd172c3643b"
      },
      "outputs": [
        {
          "output_type": "stream",
          "name": "stdout",
          "text": [
            "Requirement already satisfied: gdown in /usr/local/lib/python3.10/dist-packages (4.6.6)\n",
            "Collecting gdown\n",
            "  Downloading gdown-5.0.0-py3-none-any.whl (16 kB)\n",
            "Requirement already satisfied: beautifulsoup4 in /usr/local/lib/python3.10/dist-packages (from gdown) (4.11.2)\n",
            "Requirement already satisfied: filelock in /usr/local/lib/python3.10/dist-packages (from gdown) (3.13.1)\n",
            "Requirement already satisfied: requests[socks] in /usr/local/lib/python3.10/dist-packages (from gdown) (2.31.0)\n",
            "Requirement already satisfied: tqdm in /usr/local/lib/python3.10/dist-packages (from gdown) (4.66.1)\n",
            "Requirement already satisfied: soupsieve>1.2 in /usr/local/lib/python3.10/dist-packages (from beautifulsoup4->gdown) (2.5)\n",
            "Requirement already satisfied: charset-normalizer<4,>=2 in /usr/local/lib/python3.10/dist-packages (from requests[socks]->gdown) (3.3.2)\n",
            "Requirement already satisfied: idna<4,>=2.5 in /usr/local/lib/python3.10/dist-packages (from requests[socks]->gdown) (3.6)\n",
            "Requirement already satisfied: urllib3<3,>=1.21.1 in /usr/local/lib/python3.10/dist-packages (from requests[socks]->gdown) (2.0.7)\n",
            "Requirement already satisfied: certifi>=2017.4.17 in /usr/local/lib/python3.10/dist-packages (from requests[socks]->gdown) (2023.11.17)\n",
            "Requirement already satisfied: PySocks!=1.5.7,>=1.5.6 in /usr/local/lib/python3.10/dist-packages (from requests[socks]->gdown) (1.7.1)\n",
            "Installing collected packages: gdown\n",
            "  Attempting uninstall: gdown\n",
            "    Found existing installation: gdown 4.6.6\n",
            "    Uninstalling gdown-4.6.6:\n",
            "      Successfully uninstalled gdown-4.6.6\n",
            "Successfully installed gdown-5.0.0\n"
          ]
        }
      ],
      "source": [
        "!pip install --upgrade gdown"
      ]
    },
    {
      "cell_type": "code",
      "execution_count": null,
      "metadata": {
        "id": "R0xTyQmnvqo1",
        "colab": {
          "base_uri": "https://localhost:8080/"
        },
        "outputId": "6e2a4fa0-c44d-446f-bbe7-8b09e0c22d4a"
      },
      "outputs": [
        {
          "output_type": "stream",
          "name": "stdout",
          "text": [
            "Segmentation Models: using `tf.keras` framework.\n"
          ]
        }
      ],
      "source": [
        "# importing libraries\n",
        "import cv2\n",
        "import os\n",
        "import tensorflow as tf\n",
        "import numpy as np\n",
        "from matplotlib import pyplot as plt\n",
        "import keras\n",
        "os.environ[\"SM_FRAMEWORK\"] = \"tf.keras\"\n",
        "import segmentation_models as sm\n",
        "from keras.utils import normalize\n",
        "from keras.metrics import MeanIoU\n",
        "from sklearn.model_selection import train_test_split\n",
        "from sklearn.preprocessing import LabelEncoder\n",
        "from keras.utils import to_categorical\n",
        "from keras.models import load_model\n",
        "from skimage.io import imread\n",
        "from keras.layers import Input, Conv2D\n",
        "from keras.models import Model\n",
        "import random"
      ]
    },
    {
      "cell_type": "code",
      "execution_count": null,
      "metadata": {
        "id": "wdpx4cas8T8b"
      },
      "outputs": [],
      "source": [
        "#setting gpu memory consumption growth\n",
        "gpus = tf.config.experimental.list_physical_devices('GPU')\n",
        "for gpu in gpus:\n",
        "  tf.config.experimental.set_memory_growth(gpu, True)"
      ]
    },
    {
      "cell_type": "code",
      "execution_count": null,
      "metadata": {
        "colab": {
          "base_uri": "https://localhost:8080/"
        },
        "id": "4nj2YzGhCMWW",
        "outputId": "6d8ba440-f993-4e31-8a69-51af1c62b682"
      },
      "outputs": [
        {
          "output_type": "stream",
          "name": "stdout",
          "text": [
            "Downloading...\n",
            "From: https://drive.google.com/uc?id=1UvRuiTaifBWLHnueH8z4Bj5gihcaxmiM\n",
            "To: /content/kaggle.json\n",
            "\r  0% 0.00/70.0 [00:00<?, ?B/s]\r100% 70.0/70.0 [00:00<00:00, 54.3kB/s]\n"
          ]
        }
      ],
      "source": [
        "#downloading kaggle.json file\n",
        "!gdown \"https://drive.google.com/uc?id=1UvRuiTaifBWLHnueH8z4Bj5gihcaxmiM\""
      ]
    },
    {
      "cell_type": "code",
      "execution_count": null,
      "metadata": {
        "id": "UJpzs2jaB0so"
      },
      "outputs": [],
      "source": [
        "#making kaggle directory\n",
        "!mkdir -p ~/.kaggle\n",
        "!cp kaggle.json ~/.kaggle/"
      ]
    },
    {
      "cell_type": "code",
      "execution_count": null,
      "metadata": {
        "id": "gamyTPfwC7oz"
      },
      "outputs": [],
      "source": [
        "!chmod 600 /root/.kaggle/kaggle.json"
      ]
    },
    {
      "cell_type": "code",
      "execution_count": null,
      "metadata": {
        "colab": {
          "base_uri": "https://localhost:8080/"
        },
        "id": "4pT3XbMZyhMd",
        "outputId": "d674b1bb-7c86-47a0-b9bc-09b5f480f958"
      },
      "outputs": [
        {
          "output_type": "stream",
          "name": "stdout",
          "text": [
            "Downloading electron-microscopy-dataset.zip to /content\n",
            " 88% 190M/215M [00:00<00:00, 216MB/s]\n",
            "100% 215M/215M [00:01<00:00, 207MB/s]\n"
          ]
        }
      ],
      "source": [
        "# downloading the dataset from kaggle\n",
        "!kaggle datasets download -d dat0chin/electron-microscopy-dataset"
      ]
    },
    {
      "cell_type": "code",
      "execution_count": null,
      "metadata": {
        "colab": {
          "base_uri": "https://localhost:8080/"
        },
        "id": "8aYlA5qzlRE2",
        "outputId": "6ebbc531-c128-4456-c727-2d52b945de8d"
      },
      "outputs": [
        {
          "output_type": "stream",
          "name": "stdout",
          "text": [
            "Archive:  /content/electron-microscopy-dataset.zip\n",
            "  inflating: test/data/test0.tif     \n",
            "  inflating: test/data/test1.tif     \n",
            "  inflating: test/data/test10.tif    \n",
            "  inflating: test/data/test100.tif   \n",
            "  inflating: test/data/test101.tif   \n",
            "  inflating: test/data/test102.tif   \n",
            "  inflating: test/data/test103.tif   \n",
            "  inflating: test/data/test104.tif   \n",
            "  inflating: test/data/test105.tif   \n",
            "  inflating: test/data/test106.tif   \n",
            "  inflating: test/data/test107.tif   \n",
            "  inflating: test/data/test108.tif   \n",
            "  inflating: test/data/test109.tif   \n",
            "  inflating: test/data/test11.tif    \n",
            "  inflating: test/data/test110.tif   \n",
            "  inflating: test/data/test111.tif   \n",
            "  inflating: test/data/test112.tif   \n",
            "  inflating: test/data/test113.tif   \n",
            "  inflating: test/data/test114.tif   \n",
            "  inflating: test/data/test115.tif   \n",
            "  inflating: test/data/test116.tif   \n",
            "  inflating: test/data/test117.tif   \n",
            "  inflating: test/data/test118.tif   \n",
            "  inflating: test/data/test119.tif   \n",
            "  inflating: test/data/test12.tif    \n",
            "  inflating: test/data/test120.tif   \n",
            "  inflating: test/data/test121.tif   \n",
            "  inflating: test/data/test122.tif   \n",
            "  inflating: test/data/test123.tif   \n",
            "  inflating: test/data/test124.tif   \n",
            "  inflating: test/data/test125.tif   \n",
            "  inflating: test/data/test126.tif   \n",
            "  inflating: test/data/test127.tif   \n",
            "  inflating: test/data/test128.tif   \n",
            "  inflating: test/data/test129.tif   \n",
            "  inflating: test/data/test13.tif    \n",
            "  inflating: test/data/test130.tif   \n",
            "  inflating: test/data/test131.tif   \n",
            "  inflating: test/data/test132.tif   \n",
            "  inflating: test/data/test133.tif   \n",
            "  inflating: test/data/test134.tif   \n",
            "  inflating: test/data/test135.tif   \n",
            "  inflating: test/data/test136.tif   \n",
            "  inflating: test/data/test137.tif   \n",
            "  inflating: test/data/test138.tif   \n",
            "  inflating: test/data/test139.tif   \n",
            "  inflating: test/data/test14.tif    \n",
            "  inflating: test/data/test140.tif   \n",
            "  inflating: test/data/test141.tif   \n",
            "  inflating: test/data/test142.tif   \n",
            "  inflating: test/data/test143.tif   \n",
            "  inflating: test/data/test144.tif   \n",
            "  inflating: test/data/test145.tif   \n",
            "  inflating: test/data/test146.tif   \n",
            "  inflating: test/data/test147.tif   \n",
            "  inflating: test/data/test148.tif   \n",
            "  inflating: test/data/test149.tif   \n",
            "  inflating: test/data/test15.tif    \n",
            "  inflating: test/data/test150.tif   \n",
            "  inflating: test/data/test151.tif   \n",
            "  inflating: test/data/test152.tif   \n",
            "  inflating: test/data/test153.tif   \n",
            "  inflating: test/data/test154.tif   \n",
            "  inflating: test/data/test155.tif   \n",
            "  inflating: test/data/test156.tif   \n",
            "  inflating: test/data/test157.tif   \n",
            "  inflating: test/data/test158.tif   \n",
            "  inflating: test/data/test159.tif   \n",
            "  inflating: test/data/test16.tif    \n",
            "  inflating: test/data/test160.tif   \n",
            "  inflating: test/data/test161.tif   \n",
            "  inflating: test/data/test162.tif   \n",
            "  inflating: test/data/test163.tif   \n",
            "  inflating: test/data/test164.tif   \n",
            "  inflating: test/data/test17.tif    \n",
            "  inflating: test/data/test18.tif    \n",
            "  inflating: test/data/test19.tif    \n",
            "  inflating: test/data/test2.tif     \n",
            "  inflating: test/data/test20.tif    \n",
            "  inflating: test/data/test21.tif    \n",
            "  inflating: test/data/test22.tif    \n",
            "  inflating: test/data/test23.tif    \n",
            "  inflating: test/data/test24.tif    \n",
            "  inflating: test/data/test25.tif    \n",
            "  inflating: test/data/test26.tif    \n",
            "  inflating: test/data/test27.tif    \n",
            "  inflating: test/data/test28.tif    \n",
            "  inflating: test/data/test29.tif    \n",
            "  inflating: test/data/test3.tif     \n",
            "  inflating: test/data/test30.tif    \n",
            "  inflating: test/data/test31.tif    \n",
            "  inflating: test/data/test32.tif    \n",
            "  inflating: test/data/test33.tif    \n",
            "  inflating: test/data/test34.tif    \n",
            "  inflating: test/data/test35.tif    \n",
            "  inflating: test/data/test36.tif    \n",
            "  inflating: test/data/test37.tif    \n",
            "  inflating: test/data/test38.tif    \n",
            "  inflating: test/data/test39.tif    \n",
            "  inflating: test/data/test4.tif     \n",
            "  inflating: test/data/test40.tif    \n",
            "  inflating: test/data/test41.tif    \n",
            "  inflating: test/data/test42.tif    \n",
            "  inflating: test/data/test43.tif    \n",
            "  inflating: test/data/test44.tif    \n",
            "  inflating: test/data/test45.tif    \n",
            "  inflating: test/data/test46.tif    \n",
            "  inflating: test/data/test47.tif    \n",
            "  inflating: test/data/test48.tif    \n",
            "  inflating: test/data/test49.tif    \n",
            "  inflating: test/data/test5.tif     \n",
            "  inflating: test/data/test50.tif    \n",
            "  inflating: test/data/test51.tif    \n",
            "  inflating: test/data/test52.tif    \n",
            "  inflating: test/data/test53.tif    \n",
            "  inflating: test/data/test54.tif    \n",
            "  inflating: test/data/test55.tif    \n",
            "  inflating: test/data/test56.tif    \n",
            "  inflating: test/data/test57.tif    \n",
            "  inflating: test/data/test58.tif    \n",
            "  inflating: test/data/test59.tif    \n",
            "  inflating: test/data/test6.tif     \n",
            "  inflating: test/data/test60.tif    \n",
            "  inflating: test/data/test61.tif    \n",
            "  inflating: test/data/test62.tif    \n",
            "  inflating: test/data/test63.tif    \n",
            "  inflating: test/data/test64.tif    \n",
            "  inflating: test/data/test65.tif    \n",
            "  inflating: test/data/test66.tif    \n",
            "  inflating: test/data/test67.tif    \n",
            "  inflating: test/data/test68.tif    \n",
            "  inflating: test/data/test69.tif    \n",
            "  inflating: test/data/test7.tif     \n",
            "  inflating: test/data/test70.tif    \n",
            "  inflating: test/data/test71.tif    \n",
            "  inflating: test/data/test72.tif    \n",
            "  inflating: test/data/test73.tif    \n",
            "  inflating: test/data/test74.tif    \n",
            "  inflating: test/data/test75.tif    \n",
            "  inflating: test/data/test76.tif    \n",
            "  inflating: test/data/test77.tif    \n",
            "  inflating: test/data/test78.tif    \n",
            "  inflating: test/data/test79.tif    \n",
            "  inflating: test/data/test8.tif     \n",
            "  inflating: test/data/test80.tif    \n",
            "  inflating: test/data/test81.tif    \n",
            "  inflating: test/data/test82.tif    \n",
            "  inflating: test/data/test83.tif    \n",
            "  inflating: test/data/test84.tif    \n",
            "  inflating: test/data/test85.tif    \n",
            "  inflating: test/data/test86.tif    \n",
            "  inflating: test/data/test87.tif    \n",
            "  inflating: test/data/test88.tif    \n",
            "  inflating: test/data/test89.tif    \n",
            "  inflating: test/data/test9.tif     \n",
            "  inflating: test/data/test90.tif    \n",
            "  inflating: test/data/test91.tif    \n",
            "  inflating: test/data/test92.tif    \n",
            "  inflating: test/data/test93.tif    \n",
            "  inflating: test/data/test94.tif    \n",
            "  inflating: test/data/test95.tif    \n",
            "  inflating: test/data/test96.tif    \n",
            "  inflating: test/data/test97.tif    \n",
            "  inflating: test/data/test98.tif    \n",
            "  inflating: test/data/test99.tif    \n",
            "  inflating: test/label/label0.tif   \n",
            "  inflating: test/label/label1.tif   \n",
            "  inflating: test/label/label10.tif  \n",
            "  inflating: test/label/label100.tif  \n",
            "  inflating: test/label/label101.tif  \n",
            "  inflating: test/label/label102.tif  \n",
            "  inflating: test/label/label103.tif  \n",
            "  inflating: test/label/label104.tif  \n",
            "  inflating: test/label/label105.tif  \n",
            "  inflating: test/label/label106.tif  \n",
            "  inflating: test/label/label107.tif  \n",
            "  inflating: test/label/label108.tif  \n",
            "  inflating: test/label/label109.tif  \n",
            "  inflating: test/label/label11.tif  \n",
            "  inflating: test/label/label110.tif  \n",
            "  inflating: test/label/label111.tif  \n",
            "  inflating: test/label/label112.tif  \n",
            "  inflating: test/label/label113.tif  \n",
            "  inflating: test/label/label114.tif  \n",
            "  inflating: test/label/label115.tif  \n",
            "  inflating: test/label/label116.tif  \n",
            "  inflating: test/label/label117.tif  \n",
            "  inflating: test/label/label118.tif  \n",
            "  inflating: test/label/label119.tif  \n",
            "  inflating: test/label/label12.tif  \n",
            "  inflating: test/label/label120.tif  \n",
            "  inflating: test/label/label121.tif  \n",
            "  inflating: test/label/label122.tif  \n",
            "  inflating: test/label/label123.tif  \n",
            "  inflating: test/label/label124.tif  \n",
            "  inflating: test/label/label125.tif  \n",
            "  inflating: test/label/label126.tif  \n",
            "  inflating: test/label/label127.tif  \n",
            "  inflating: test/label/label128.tif  \n",
            "  inflating: test/label/label129.tif  \n",
            "  inflating: test/label/label13.tif  \n",
            "  inflating: test/label/label130.tif  \n",
            "  inflating: test/label/label131.tif  \n",
            "  inflating: test/label/label132.tif  \n",
            "  inflating: test/label/label133.tif  \n",
            "  inflating: test/label/label134.tif  \n",
            "  inflating: test/label/label135.tif  \n",
            "  inflating: test/label/label136.tif  \n",
            "  inflating: test/label/label137.tif  \n",
            "  inflating: test/label/label138.tif  \n",
            "  inflating: test/label/label139.tif  \n",
            "  inflating: test/label/label14.tif  \n",
            "  inflating: test/label/label140.tif  \n",
            "  inflating: test/label/label141.tif  \n",
            "  inflating: test/label/label142.tif  \n",
            "  inflating: test/label/label143.tif  \n",
            "  inflating: test/label/label144.tif  \n",
            "  inflating: test/label/label145.tif  \n",
            "  inflating: test/label/label146.tif  \n",
            "  inflating: test/label/label147.tif  \n",
            "  inflating: test/label/label148.tif  \n",
            "  inflating: test/label/label149.tif  \n",
            "  inflating: test/label/label15.tif  \n",
            "  inflating: test/label/label150.tif  \n",
            "  inflating: test/label/label151.tif  \n",
            "  inflating: test/label/label152.tif  \n",
            "  inflating: test/label/label153.tif  \n",
            "  inflating: test/label/label154.tif  \n",
            "  inflating: test/label/label155.tif  \n",
            "  inflating: test/label/label156.tif  \n",
            "  inflating: test/label/label157.tif  \n",
            "  inflating: test/label/label158.tif  \n",
            "  inflating: test/label/label159.tif  \n",
            "  inflating: test/label/label16.tif  \n",
            "  inflating: test/label/label160.tif  \n",
            "  inflating: test/label/label161.tif  \n",
            "  inflating: test/label/label162.tif  \n",
            "  inflating: test/label/label163.tif  \n",
            "  inflating: test/label/label164.tif  \n",
            "  inflating: test/label/label17.tif  \n",
            "  inflating: test/label/label18.tif  \n",
            "  inflating: test/label/label19.tif  \n",
            "  inflating: test/label/label2.tif   \n",
            "  inflating: test/label/label20.tif  \n",
            "  inflating: test/label/label21.tif  \n",
            "  inflating: test/label/label22.tif  \n",
            "  inflating: test/label/label23.tif  \n",
            "  inflating: test/label/label24.tif  \n",
            "  inflating: test/label/label25.tif  \n",
            "  inflating: test/label/label26.tif  \n",
            "  inflating: test/label/label27.tif  \n",
            "  inflating: test/label/label28.tif  \n",
            "  inflating: test/label/label29.tif  \n",
            "  inflating: test/label/label3.tif   \n",
            "  inflating: test/label/label30.tif  \n",
            "  inflating: test/label/label31.tif  \n",
            "  inflating: test/label/label32.tif  \n",
            "  inflating: test/label/label33.tif  \n",
            "  inflating: test/label/label34.tif  \n",
            "  inflating: test/label/label35.tif  \n",
            "  inflating: test/label/label36.tif  \n",
            "  inflating: test/label/label37.tif  \n",
            "  inflating: test/label/label38.tif  \n",
            "  inflating: test/label/label39.tif  \n",
            "  inflating: test/label/label4.tif   \n",
            "  inflating: test/label/label40.tif  \n",
            "  inflating: test/label/label41.tif  \n",
            "  inflating: test/label/label42.tif  \n",
            "  inflating: test/label/label43.tif  \n",
            "  inflating: test/label/label44.tif  \n",
            "  inflating: test/label/label45.tif  \n",
            "  inflating: test/label/label46.tif  \n",
            "  inflating: test/label/label47.tif  \n",
            "  inflating: test/label/label48.tif  \n",
            "  inflating: test/label/label49.tif  \n",
            "  inflating: test/label/label5.tif   \n",
            "  inflating: test/label/label50.tif  \n",
            "  inflating: test/label/label51.tif  \n",
            "  inflating: test/label/label52.tif  \n",
            "  inflating: test/label/label53.tif  \n",
            "  inflating: test/label/label54.tif  \n",
            "  inflating: test/label/label55.tif  \n",
            "  inflating: test/label/label56.tif  \n",
            "  inflating: test/label/label57.tif  \n",
            "  inflating: test/label/label58.tif  \n",
            "  inflating: test/label/label59.tif  \n",
            "  inflating: test/label/label6.tif   \n",
            "  inflating: test/label/label60.tif  \n",
            "  inflating: test/label/label61.tif  \n",
            "  inflating: test/label/label62.tif  \n",
            "  inflating: test/label/label63.tif  \n",
            "  inflating: test/label/label64.tif  \n",
            "  inflating: test/label/label65.tif  \n",
            "  inflating: test/label/label66.tif  \n",
            "  inflating: test/label/label67.tif  \n",
            "  inflating: test/label/label68.tif  \n",
            "  inflating: test/label/label69.tif  \n",
            "  inflating: test/label/label7.tif   \n",
            "  inflating: test/label/label70.tif  \n",
            "  inflating: test/label/label71.tif  \n",
            "  inflating: test/label/label72.tif  \n",
            "  inflating: test/label/label73.tif  \n",
            "  inflating: test/label/label74.tif  \n",
            "  inflating: test/label/label75.tif  \n",
            "  inflating: test/label/label76.tif  \n",
            "  inflating: test/label/label77.tif  \n",
            "  inflating: test/label/label78.tif  \n",
            "  inflating: test/label/label79.tif  \n",
            "  inflating: test/label/label8.tif   \n",
            "  inflating: test/label/label80.tif  \n",
            "  inflating: test/label/label81.tif  \n",
            "  inflating: test/label/label82.tif  \n",
            "  inflating: test/label/label83.tif  \n",
            "  inflating: test/label/label84.tif  \n",
            "  inflating: test/label/label85.tif  \n",
            "  inflating: test/label/label86.tif  \n",
            "  inflating: test/label/label87.tif  \n",
            "  inflating: test/label/label88.tif  \n",
            "  inflating: test/label/label89.tif  \n",
            "  inflating: test/label/label9.tif   \n",
            "  inflating: test/label/label90.tif  \n",
            "  inflating: test/label/label91.tif  \n",
            "  inflating: test/label/label92.tif  \n",
            "  inflating: test/label/label93.tif  \n",
            "  inflating: test/label/label94.tif  \n",
            "  inflating: test/label/label95.tif  \n",
            "  inflating: test/label/label96.tif  \n",
            "  inflating: test/label/label97.tif  \n",
            "  inflating: test/label/label98.tif  \n",
            "  inflating: test/label/label99.tif  \n",
            "  inflating: train/data/train0.tif   \n",
            "  inflating: train/data/train1.tif   \n",
            "  inflating: train/data/train10.tif  \n",
            "  inflating: train/data/train100.tif  \n",
            "  inflating: train/data/train101.tif  \n",
            "  inflating: train/data/train102.tif  \n",
            "  inflating: train/data/train103.tif  \n",
            "  inflating: train/data/train104.tif  \n",
            "  inflating: train/data/train105.tif  \n",
            "  inflating: train/data/train106.tif  \n",
            "  inflating: train/data/train107.tif  \n",
            "  inflating: train/data/train108.tif  \n",
            "  inflating: train/data/train109.tif  \n",
            "  inflating: train/data/train11.tif  \n",
            "  inflating: train/data/train110.tif  \n",
            "  inflating: train/data/train111.tif  \n",
            "  inflating: train/data/train112.tif  \n",
            "  inflating: train/data/train113.tif  \n",
            "  inflating: train/data/train114.tif  \n",
            "  inflating: train/data/train115.tif  \n",
            "  inflating: train/data/train116.tif  \n",
            "  inflating: train/data/train117.tif  \n",
            "  inflating: train/data/train118.tif  \n",
            "  inflating: train/data/train119.tif  \n",
            "  inflating: train/data/train12.tif  \n",
            "  inflating: train/data/train120.tif  \n",
            "  inflating: train/data/train121.tif  \n",
            "  inflating: train/data/train122.tif  \n",
            "  inflating: train/data/train123.tif  \n",
            "  inflating: train/data/train124.tif  \n",
            "  inflating: train/data/train125.tif  \n",
            "  inflating: train/data/train126.tif  \n",
            "  inflating: train/data/train127.tif  \n",
            "  inflating: train/data/train128.tif  \n",
            "  inflating: train/data/train129.tif  \n",
            "  inflating: train/data/train13.tif  \n",
            "  inflating: train/data/train130.tif  \n",
            "  inflating: train/data/train131.tif  \n",
            "  inflating: train/data/train132.tif  \n",
            "  inflating: train/data/train133.tif  \n",
            "  inflating: train/data/train134.tif  \n",
            "  inflating: train/data/train135.tif  \n",
            "  inflating: train/data/train136.tif  \n",
            "  inflating: train/data/train137.tif  \n",
            "  inflating: train/data/train138.tif  \n",
            "  inflating: train/data/train139.tif  \n",
            "  inflating: train/data/train14.tif  \n",
            "  inflating: train/data/train140.tif  \n",
            "  inflating: train/data/train141.tif  \n",
            "  inflating: train/data/train142.tif  \n",
            "  inflating: train/data/train143.tif  \n",
            "  inflating: train/data/train144.tif  \n",
            "  inflating: train/data/train145.tif  \n",
            "  inflating: train/data/train146.tif  \n",
            "  inflating: train/data/train147.tif  \n",
            "  inflating: train/data/train148.tif  \n",
            "  inflating: train/data/train149.tif  \n",
            "  inflating: train/data/train15.tif  \n",
            "  inflating: train/data/train150.tif  \n",
            "  inflating: train/data/train151.tif  \n",
            "  inflating: train/data/train152.tif  \n",
            "  inflating: train/data/train153.tif  \n",
            "  inflating: train/data/train154.tif  \n",
            "  inflating: train/data/train155.tif  \n",
            "  inflating: train/data/train156.tif  \n",
            "  inflating: train/data/train157.tif  \n",
            "  inflating: train/data/train158.tif  \n",
            "  inflating: train/data/train159.tif  \n",
            "  inflating: train/data/train16.tif  \n",
            "  inflating: train/data/train160.tif  \n",
            "  inflating: train/data/train161.tif  \n",
            "  inflating: train/data/train162.tif  \n",
            "  inflating: train/data/train163.tif  \n",
            "  inflating: train/data/train164.tif  \n",
            "  inflating: train/data/train17.tif  \n",
            "  inflating: train/data/train18.tif  \n",
            "  inflating: train/data/train19.tif  \n",
            "  inflating: train/data/train2.tif   \n",
            "  inflating: train/data/train20.tif  \n",
            "  inflating: train/data/train21.tif  \n",
            "  inflating: train/data/train22.tif  \n",
            "  inflating: train/data/train23.tif  \n",
            "  inflating: train/data/train24.tif  \n",
            "  inflating: train/data/train25.tif  \n",
            "  inflating: train/data/train26.tif  \n",
            "  inflating: train/data/train27.tif  \n",
            "  inflating: train/data/train28.tif  \n",
            "  inflating: train/data/train29.tif  \n",
            "  inflating: train/data/train3.tif   \n",
            "  inflating: train/data/train30.tif  \n",
            "  inflating: train/data/train31.tif  \n",
            "  inflating: train/data/train32.tif  \n",
            "  inflating: train/data/train33.tif  \n",
            "  inflating: train/data/train34.tif  \n",
            "  inflating: train/data/train35.tif  \n",
            "  inflating: train/data/train36.tif  \n",
            "  inflating: train/data/train37.tif  \n",
            "  inflating: train/data/train38.tif  \n",
            "  inflating: train/data/train39.tif  \n",
            "  inflating: train/data/train4.tif   \n",
            "  inflating: train/data/train40.tif  \n",
            "  inflating: train/data/train41.tif  \n",
            "  inflating: train/data/train42.tif  \n",
            "  inflating: train/data/train43.tif  \n",
            "  inflating: train/data/train44.tif  \n",
            "  inflating: train/data/train45.tif  \n",
            "  inflating: train/data/train46.tif  \n",
            "  inflating: train/data/train47.tif  \n",
            "  inflating: train/data/train48.tif  \n",
            "  inflating: train/data/train49.tif  \n",
            "  inflating: train/data/train5.tif   \n",
            "  inflating: train/data/train50.tif  \n",
            "  inflating: train/data/train51.tif  \n",
            "  inflating: train/data/train52.tif  \n",
            "  inflating: train/data/train53.tif  \n",
            "  inflating: train/data/train54.tif  \n",
            "  inflating: train/data/train55.tif  \n",
            "  inflating: train/data/train56.tif  \n",
            "  inflating: train/data/train57.tif  \n",
            "  inflating: train/data/train58.tif  \n",
            "  inflating: train/data/train59.tif  \n",
            "  inflating: train/data/train6.tif   \n",
            "  inflating: train/data/train60.tif  \n",
            "  inflating: train/data/train61.tif  \n",
            "  inflating: train/data/train62.tif  \n",
            "  inflating: train/data/train63.tif  \n",
            "  inflating: train/data/train64.tif  \n",
            "  inflating: train/data/train65.tif  \n",
            "  inflating: train/data/train66.tif  \n",
            "  inflating: train/data/train67.tif  \n",
            "  inflating: train/data/train68.tif  \n",
            "  inflating: train/data/train69.tif  \n",
            "  inflating: train/data/train7.tif   \n",
            "  inflating: train/data/train70.tif  \n",
            "  inflating: train/data/train71.tif  \n",
            "  inflating: train/data/train72.tif  \n",
            "  inflating: train/data/train73.tif  \n",
            "  inflating: train/data/train74.tif  \n",
            "  inflating: train/data/train75.tif  \n",
            "  inflating: train/data/train76.tif  \n",
            "  inflating: train/data/train77.tif  \n",
            "  inflating: train/data/train78.tif  \n",
            "  inflating: train/data/train79.tif  \n",
            "  inflating: train/data/train8.tif   \n",
            "  inflating: train/data/train80.tif  \n",
            "  inflating: train/data/train81.tif  \n",
            "  inflating: train/data/train82.tif  \n",
            "  inflating: train/data/train83.tif  \n",
            "  inflating: train/data/train84.tif  \n",
            "  inflating: train/data/train85.tif  \n",
            "  inflating: train/data/train86.tif  \n",
            "  inflating: train/data/train87.tif  \n",
            "  inflating: train/data/train88.tif  \n",
            "  inflating: train/data/train89.tif  \n",
            "  inflating: train/data/train9.tif   \n",
            "  inflating: train/data/train90.tif  \n",
            "  inflating: train/data/train91.tif  \n",
            "  inflating: train/data/train92.tif  \n",
            "  inflating: train/data/train93.tif  \n",
            "  inflating: train/data/train94.tif  \n",
            "  inflating: train/data/train95.tif  \n",
            "  inflating: train/data/train96.tif  \n",
            "  inflating: train/data/train97.tif  \n",
            "  inflating: train/data/train98.tif  \n",
            "  inflating: train/data/train99.tif  \n",
            "  inflating: train/label/label0.tif  \n",
            "  inflating: train/label/label1.tif  \n",
            "  inflating: train/label/label10.tif  \n",
            "  inflating: train/label/label100.tif  \n",
            "  inflating: train/label/label101.tif  \n",
            "  inflating: train/label/label102.tif  \n",
            "  inflating: train/label/label103.tif  \n",
            "  inflating: train/label/label104.tif  \n",
            "  inflating: train/label/label105.tif  \n",
            "  inflating: train/label/label106.tif  \n",
            "  inflating: train/label/label107.tif  \n",
            "  inflating: train/label/label108.tif  \n",
            "  inflating: train/label/label109.tif  \n",
            "  inflating: train/label/label11.tif  \n",
            "  inflating: train/label/label110.tif  \n",
            "  inflating: train/label/label111.tif  \n",
            "  inflating: train/label/label112.tif  \n",
            "  inflating: train/label/label113.tif  \n",
            "  inflating: train/label/label114.tif  \n",
            "  inflating: train/label/label115.tif  \n",
            "  inflating: train/label/label116.tif  \n",
            "  inflating: train/label/label117.tif  \n",
            "  inflating: train/label/label118.tif  \n",
            "  inflating: train/label/label119.tif  \n",
            "  inflating: train/label/label12.tif  \n",
            "  inflating: train/label/label120.tif  \n",
            "  inflating: train/label/label121.tif  \n",
            "  inflating: train/label/label122.tif  \n",
            "  inflating: train/label/label123.tif  \n",
            "  inflating: train/label/label124.tif  \n",
            "  inflating: train/label/label125.tif  \n",
            "  inflating: train/label/label126.tif  \n",
            "  inflating: train/label/label127.tif  \n",
            "  inflating: train/label/label128.tif  \n",
            "  inflating: train/label/label129.tif  \n",
            "  inflating: train/label/label13.tif  \n",
            "  inflating: train/label/label130.tif  \n",
            "  inflating: train/label/label131.tif  \n",
            "  inflating: train/label/label132.tif  \n",
            "  inflating: train/label/label133.tif  \n",
            "  inflating: train/label/label134.tif  \n",
            "  inflating: train/label/label135.tif  \n",
            "  inflating: train/label/label136.tif  \n",
            "  inflating: train/label/label137.tif  \n",
            "  inflating: train/label/label138.tif  \n",
            "  inflating: train/label/label139.tif  \n",
            "  inflating: train/label/label14.tif  \n",
            "  inflating: train/label/label140.tif  \n",
            "  inflating: train/label/label141.tif  \n",
            "  inflating: train/label/label142.tif  \n",
            "  inflating: train/label/label143.tif  \n",
            "  inflating: train/label/label144.tif  \n",
            "  inflating: train/label/label145.tif  \n",
            "  inflating: train/label/label146.tif  \n",
            "  inflating: train/label/label147.tif  \n",
            "  inflating: train/label/label148.tif  \n",
            "  inflating: train/label/label149.tif  \n",
            "  inflating: train/label/label15.tif  \n",
            "  inflating: train/label/label150.tif  \n",
            "  inflating: train/label/label151.tif  \n",
            "  inflating: train/label/label152.tif  \n",
            "  inflating: train/label/label153.tif  \n",
            "  inflating: train/label/label154.tif  \n",
            "  inflating: train/label/label155.tif  \n",
            "  inflating: train/label/label156.tif  \n",
            "  inflating: train/label/label157.tif  \n",
            "  inflating: train/label/label158.tif  \n",
            "  inflating: train/label/label159.tif  \n",
            "  inflating: train/label/label16.tif  \n",
            "  inflating: train/label/label160.tif  \n",
            "  inflating: train/label/label161.tif  \n",
            "  inflating: train/label/label162.tif  \n",
            "  inflating: train/label/label163.tif  \n",
            "  inflating: train/label/label164.tif  \n",
            "  inflating: train/label/label17.tif  \n",
            "  inflating: train/label/label18.tif  \n",
            "  inflating: train/label/label19.tif  \n",
            "  inflating: train/label/label2.tif  \n",
            "  inflating: train/label/label20.tif  \n",
            "  inflating: train/label/label21.tif  \n",
            "  inflating: train/label/label22.tif  \n",
            "  inflating: train/label/label23.tif  \n",
            "  inflating: train/label/label24.tif  \n",
            "  inflating: train/label/label25.tif  \n",
            "  inflating: train/label/label26.tif  \n",
            "  inflating: train/label/label27.tif  \n",
            "  inflating: train/label/label28.tif  \n",
            "  inflating: train/label/label29.tif  \n",
            "  inflating: train/label/label3.tif  \n",
            "  inflating: train/label/label30.tif  \n",
            "  inflating: train/label/label31.tif  \n",
            "  inflating: train/label/label32.tif  \n",
            "  inflating: train/label/label33.tif  \n",
            "  inflating: train/label/label34.tif  \n",
            "  inflating: train/label/label35.tif  \n",
            "  inflating: train/label/label36.tif  \n",
            "  inflating: train/label/label37.tif  \n",
            "  inflating: train/label/label38.tif  \n",
            "  inflating: train/label/label39.tif  \n",
            "  inflating: train/label/label4.tif  \n",
            "  inflating: train/label/label40.tif  \n",
            "  inflating: train/label/label41.tif  \n",
            "  inflating: train/label/label42.tif  \n",
            "  inflating: train/label/label43.tif  \n",
            "  inflating: train/label/label44.tif  \n",
            "  inflating: train/label/label45.tif  \n",
            "  inflating: train/label/label46.tif  \n",
            "  inflating: train/label/label47.tif  \n",
            "  inflating: train/label/label48.tif  \n",
            "  inflating: train/label/label49.tif  \n",
            "  inflating: train/label/label5.tif  \n",
            "  inflating: train/label/label50.tif  \n",
            "  inflating: train/label/label51.tif  \n",
            "  inflating: train/label/label52.tif  \n",
            "  inflating: train/label/label53.tif  \n",
            "  inflating: train/label/label54.tif  \n",
            "  inflating: train/label/label55.tif  \n",
            "  inflating: train/label/label56.tif  \n",
            "  inflating: train/label/label57.tif  \n",
            "  inflating: train/label/label58.tif  \n",
            "  inflating: train/label/label59.tif  \n",
            "  inflating: train/label/label6.tif  \n",
            "  inflating: train/label/label60.tif  \n",
            "  inflating: train/label/label61.tif  \n",
            "  inflating: train/label/label62.tif  \n",
            "  inflating: train/label/label63.tif  \n",
            "  inflating: train/label/label64.tif  \n",
            "  inflating: train/label/label65.tif  \n",
            "  inflating: train/label/label66.tif  \n",
            "  inflating: train/label/label67.tif  \n",
            "  inflating: train/label/label68.tif  \n",
            "  inflating: train/label/label69.tif  \n",
            "  inflating: train/label/label7.tif  \n",
            "  inflating: train/label/label70.tif  \n",
            "  inflating: train/label/label71.tif  \n",
            "  inflating: train/label/label72.tif  \n",
            "  inflating: train/label/label73.tif  \n",
            "  inflating: train/label/label74.tif  \n",
            "  inflating: train/label/label75.tif  \n",
            "  inflating: train/label/label76.tif  \n",
            "  inflating: train/label/label77.tif  \n",
            "  inflating: train/label/label78.tif  \n",
            "  inflating: train/label/label79.tif  \n",
            "  inflating: train/label/label8.tif  \n",
            "  inflating: train/label/label80.tif  \n",
            "  inflating: train/label/label81.tif  \n",
            "  inflating: train/label/label82.tif  \n",
            "  inflating: train/label/label83.tif  \n",
            "  inflating: train/label/label84.tif  \n",
            "  inflating: train/label/label85.tif  \n",
            "  inflating: train/label/label86.tif  \n",
            "  inflating: train/label/label87.tif  \n",
            "  inflating: train/label/label88.tif  \n",
            "  inflating: train/label/label89.tif  \n",
            "  inflating: train/label/label9.tif  \n",
            "  inflating: train/label/label90.tif  \n",
            "  inflating: train/label/label91.tif  \n",
            "  inflating: train/label/label92.tif  \n",
            "  inflating: train/label/label93.tif  \n",
            "  inflating: train/label/label94.tif  \n",
            "  inflating: train/label/label95.tif  \n",
            "  inflating: train/label/label96.tif  \n",
            "  inflating: train/label/label97.tif  \n",
            "  inflating: train/label/label98.tif  \n",
            "  inflating: train/label/label99.tif  \n"
          ]
        }
      ],
      "source": [
        "!unzip /content/electron-microscopy-dataset.zip"
      ]
    },
    {
      "cell_type": "code",
      "execution_count": null,
      "metadata": {
        "id": "0om94ZZdwz0c"
      },
      "outputs": [],
      "source": [
        "def preprocessing(dir_name, img_size):\n",
        "\n",
        "  preprocessed_image = []\n",
        "\n",
        "  for image in os.listdir(dir_name):\n",
        "    if image.lower().endswith('.tif'):\n",
        "      path = os.path.join(dir_name, image)\n",
        "\n",
        "      image = imread(path)\n",
        "      image = cv2.resize(image, img_size)\n",
        "      #image = image / 255.\n",
        "      preprocessed_image.append(image)\n",
        "\n",
        "  preprocessed_image = np.array(preprocessed_image)\n",
        "\n",
        "  print(\"Preprocessing is complete!\")\n",
        "  return preprocessed_image"
      ]
    },
    {
      "cell_type": "code",
      "execution_count": null,
      "metadata": {
        "id": "iNTt-RBZljir"
      },
      "outputs": [],
      "source": [
        "train_dir = \"/content/train/data\"\n",
        "train_maskdir = \"/content/train/label\"\n",
        "test_dir = \"/content/test/data\"\n",
        "test_maskdir = \"/content/train/label\""
      ]
    },
    {
      "cell_type": "code",
      "execution_count": null,
      "metadata": {
        "id": "z8gE-hy8uk1F",
        "colab": {
          "base_uri": "https://localhost:8080/"
        },
        "outputId": "5bad9b25-a371-49ba-969e-9ea4d7a4047f"
      },
      "outputs": [
        {
          "output_type": "stream",
          "name": "stdout",
          "text": [
            "Preprocessing is complete!\n",
            "Preprocessing is complete!\n",
            "Preprocessing is complete!\n",
            "Preprocessing is complete!\n"
          ]
        }
      ],
      "source": [
        "train_images = preprocessing(train_dir, (256,256))\n",
        "train_masks = preprocessing(train_maskdir, (256,256))\n",
        "test_images = preprocessing(test_dir, (256,256))\n",
        "test_masks = preprocessing(test_maskdir, (256,256))"
      ]
    },
    {
      "cell_type": "code",
      "execution_count": null,
      "metadata": {
        "id": "kK12BI3kKfhb"
      },
      "outputs": [],
      "source": [
        "re_train_images = np.expand_dims(train_images, axis=-1)\n",
        "re_train_masks = np.expand_dims(train_masks, axis=-1)\n",
        "re_test_images = np.expand_dims(test_images, axis=-1)\n",
        "re_test_masks = np.expand_dims(test_masks, axis=-1)"
      ]
    },
    {
      "cell_type": "code",
      "execution_count": null,
      "metadata": {
        "colab": {
          "base_uri": "https://localhost:8080/"
        },
        "id": "C9H85JriwQtJ",
        "outputId": "d1a6991d-a306-48e2-9a22-cb334314604f"
      },
      "outputs": [
        {
          "output_type": "execute_result",
          "data": {
            "text/plain": [
              "(165, 256, 256, 1)"
            ]
          },
          "metadata": {},
          "execution_count": 15
        }
      ],
      "source": [
        "re_train_images.shape"
      ]
    },
    {
      "cell_type": "code",
      "source": [
        "# Check unique values in the expanded masks\n",
        "unique_values = np.unique(re_test_images)\n",
        "\n",
        "print(\"Unique Values in Images:\", unique_values)"
      ],
      "metadata": {
        "colab": {
          "base_uri": "https://localhost:8080/"
        },
        "id": "4qWZg1u3airc",
        "outputId": "2dd7db67-0629-4aeb-a8d2-06ea6c7e0408"
      },
      "execution_count": null,
      "outputs": [
        {
          "output_type": "stream",
          "name": "stdout",
          "text": [
            "Unique Values in Images: [ 15  23  32  34  35  39  41  42  43  44  45  46  47  48  49  50  51  52\n",
            "  53  54  55  56  57  58  59  60  61  62  63  64  65  66  67  68  69  70\n",
            "  71  72  73  74  75  76  77  78  79  80  81  82  83  84  85  86  87  88\n",
            "  89  90  91  92  93  94  95  96  97  98  99 100 101 102 103 104 105 106\n",
            " 107 108 109 110 111 112 113 114 115 116 117 118 119 120 121 122 123 124\n",
            " 125 126 127 128 129 130 131 132 133 134 135 136 137 138 139 140 141 142\n",
            " 143 144 145 146 147 148 149 150 151 152 153 154 155 156 157 158 159 160\n",
            " 161 162 163 164 165 166 167 168 169 170 171 172 173 174 175 176 177 178\n",
            " 179 180 181 182 183 184 185 186 187 188 189 190 191 192 193 194 195 196\n",
            " 197 198 199 200 201 202 203 204 205 206 207 208 209 210 211 212 213 214\n",
            " 215 216 217 218 219 220 221 222 223 224 225 226 227 228 229 230 231 233\n",
            " 234 235 236 237 238 239 241 244 246]\n"
          ]
        }
      ]
    },
    {
      "cell_type": "code",
      "source": [
        "def binary_mask(mask):\n",
        "  threshold = 128\n",
        "  binary_masks = (mask >= threshold).astype(np.uint8)\n",
        "  return binary_masks"
      ],
      "metadata": {
        "id": "1lzGdYD2dI6l"
      },
      "execution_count": null,
      "outputs": []
    },
    {
      "cell_type": "code",
      "source": [
        "#parameters for our four models\n",
        "\n",
        "total_loss = sm.losses.dice_loss\n",
        "num_classes=1\n",
        "activation='sigmoid'\n",
        "LR = 0.0001\n",
        "optim = keras.optimizers.Adam(LR)\n",
        "metrics = [ sm.metrics.IOUScore(threshold=0.6), sm.metrics.FScore(threshold=0.6)]"
      ],
      "metadata": {
        "id": "b35NdIFxoQiC"
      },
      "execution_count": null,
      "outputs": []
    },
    {
      "cell_type": "code",
      "source": [
        "#model 1\n",
        "\n",
        "BACKBONE1 = 'vgg16'\n",
        "\n",
        "vgg1_model = sm.Unet(BACKBONE1, encoder_weights='imagenet', classes=1, activation=activation)\n",
        "\n",
        "inp = Input(shape=(256, 256, 1))\n",
        "l1 = Conv2D(3, (1, 1))(inp) # map data to 3 channels\n",
        "out = vgg1_model(l1)\n",
        "\n",
        "vgg1_model = Model(inp, out, name=vgg1_model.name)\n",
        "\n",
        "#compiling the model\n",
        "vgg1_model.compile(optim, total_loss, metrics=metrics)\n",
        "\n",
        "print(vgg1_model.summary())"
      ],
      "metadata": {
        "id": "LM699hEPynQt",
        "colab": {
          "base_uri": "https://localhost:8080/"
        },
        "outputId": "86c9c66e-b872-413b-8365-a4029e756b6e"
      },
      "execution_count": null,
      "outputs": [
        {
          "output_type": "stream",
          "name": "stdout",
          "text": [
            "Downloading data from https://github.com/fchollet/deep-learning-models/releases/download/v0.1/vgg16_weights_tf_dim_ordering_tf_kernels_notop.h5\n",
            "58889256/58889256 [==============================] - 0s 0us/step\n",
            "Model: \"model\"\n",
            "_________________________________________________________________\n",
            " Layer (type)                Output Shape              Param #   \n",
            "=================================================================\n",
            " input_2 (InputLayer)        [(None, 256, 256, 1)]     0         \n",
            "                                                                 \n",
            " conv2d (Conv2D)             (None, 256, 256, 3)       6         \n",
            "                                                                 \n",
            " model (Functional)          (None, None, None, 1)     23752273  \n",
            "                                                                 \n",
            "=================================================================\n",
            "Total params: 23752279 (90.61 MB)\n",
            "Trainable params: 23748247 (90.59 MB)\n",
            "Non-trainable params: 4032 (15.75 KB)\n",
            "_________________________________________________________________\n",
            "None\n"
          ]
        }
      ]
    },
    {
      "cell_type": "code",
      "source": [
        "type(re_test_masks)"
      ],
      "metadata": {
        "colab": {
          "base_uri": "https://localhost:8080/"
        },
        "id": "N_AmGLW_VNjB",
        "outputId": "caea0cdb-f7b6-4643-873d-8b9c7bb0f10e"
      },
      "execution_count": null,
      "outputs": [
        {
          "output_type": "execute_result",
          "data": {
            "text/plain": [
              "numpy.ndarray"
            ]
          },
          "metadata": {},
          "execution_count": 27
        }
      ]
    },
    {
      "cell_type": "code",
      "source": [
        "re_test_masks = re_test_masks.astype('float32')\n",
        "re_train_masks = re_train_masks.astype('float32')"
      ],
      "metadata": {
        "id": "GTdYF1JUABrK"
      },
      "execution_count": null,
      "outputs": []
    },
    {
      "cell_type": "code",
      "source": [
        "vgg1_history = vgg1_model.fit(re_train_images,\n",
        "          re_train_masks,\n",
        "          batch_size=8,\n",
        "          epochs=5,\n",
        "          verbose=1,\n",
        "          validation_data=(re_test_images, re_test_masks))"
      ],
      "metadata": {
        "id": "wmEO_1MD_xYt"
      },
      "execution_count": null,
      "outputs": []
    },
    {
      "cell_type": "code",
      "source": [
        "vgg1_model.save('vgg1_backbone_unet.hdf5')"
      ],
      "metadata": {
        "id": "UwJOIi3e3XC5"
      },
      "execution_count": null,
      "outputs": []
    },
    {
      "cell_type": "code",
      "source": [
        "#model 2\n",
        "\n",
        "BACKBONE3 = 'vgg19'\n",
        "\n",
        "vgg_model = sm.Unet(BACKBONE3, encoder_weights='imagenet', classes=num_classes, activation=activation, encoder_freeze=True)\n",
        "\n",
        "inp = Input(shape=(256, 256, 1))\n",
        "l1 = Conv2D(3, (1, 1))(inp) # map data to 3 channels\n",
        "out = vgg_model(l1)\n",
        "\n",
        "vgg_model = Model(inp, out, name=vgg_model.name)\n",
        "\n",
        "#compiling the model\n",
        "vgg_model.compile(optim, total_loss, metrics=metrics)\n",
        "\n",
        "print(vgg_model.summary())"
      ],
      "metadata": {
        "id": "vYRtWHdD4JpC"
      },
      "execution_count": null,
      "outputs": []
    },
    {
      "cell_type": "code",
      "source": [
        "vgg_history = vgg_model.fit(re_train_images,\n",
        "          train_masks,\n",
        "          batch_size=8,\n",
        "          epochs=5,\n",
        "          verbose=1,\n",
        "          validation_data=(re_test_images, test_masks))"
      ],
      "metadata": {
        "id": "wScuwJIB4b-r"
      },
      "execution_count": null,
      "outputs": []
    },
    {
      "cell_type": "code",
      "source": [
        "vgg_model.save('vgg_backbone_unet.hdf5')"
      ],
      "metadata": {
        "id": "xLtlEEV14i0C"
      },
      "execution_count": null,
      "outputs": []
    },
    {
      "cell_type": "code",
      "source": [
        "model1 = load_model('/content/vgg1_backbone_unet.hdf5', compile=False)\n",
        "model2 = load_model('/content/vgg_backbone_unet.hdf5', compile=False)\n",
        "\n",
        "#Weighted average ensemble\n",
        "models = [model1, model2]\n",
        "\n",
        "pred1 = model1.predict(vgg1_test_images)\n",
        "pred2 = model2.predict(vgg_test_images)\n",
        "\n",
        "preds=np.array([pred1, pred2])\n",
        "\n",
        "#preds=np.array(preds)\n",
        "weights = [0.1, 0.9]\n",
        "\n",
        "#Use tensordot to sum the products of all elements over specified axes.\n",
        "weighted_preds = np.tensordot(preds, weights, axes=((0),(0)))\n",
        "weighted_ensemble_prediction = np.argmax(weighted_preds, axis=3)\n",
        "\n",
        "y_pred1_argmax=np.argmax(pred1, axis=3)\n",
        "y_pred2_argmax=np.argmax(pred2, axis=3)"
      ],
      "metadata": {
        "id": "3_pYmKaG5QY9"
      },
      "execution_count": null,
      "outputs": []
    },
    {
      "cell_type": "code",
      "source": [
        "#Using built in keras function\n",
        "num_classes = 1\n",
        "IOU1 = MeanIoU(num_classes)\n",
        "IOU2 = MeanIoU(num_classes)\n",
        "\n",
        "IOU_weighted = MeanIoU(num_classes)\n",
        "\n",
        "IOU1.update_state(test_masks[:,:,:,0], y_pred1_argmax)\n",
        "IOU2.update_state(test_masks[:,:,:,0], y_pred2_argmax)\n",
        "\n",
        "IOU_weighted.update_state(test_masks[:,:,:,0], weighted_ensemble_prediction)\n",
        "\n",
        "\n",
        "print('IOU Score for model1 = ', IOU1.result().numpy())\n",
        "print('IOU Score for model2 = ', IOU2.result().numpy())\n",
        "print('IOU Score for weighted average ensemble = ', IOU_weighted.result().numpy())"
      ],
      "metadata": {
        "id": "kAXuEAVL8a0i"
      },
      "execution_count": null,
      "outputs": []
    },
    {
      "cell_type": "code",
      "source": [
        "#Grid search for the best combination of weights\n",
        "\n",
        "import pandas as pd\n",
        "df = pd.DataFrame([])\n",
        "\n",
        "for w1 in range(0, 10):\n",
        "    for w2 in range(0,10):\n",
        "            wts = [w1/10.,w2/10.]\n",
        "\n",
        "            IOU_wted = MeanIoU(num_classes)\n",
        "            wted_preds = np.tensordot(preds, wts, axes=((0),(0)))\n",
        "            wted_ensemble_pred = np.argmax(wted_preds, axis=3)\n",
        "            IOU_wted.update_state(test_masks[:,:,:,0], wted_ensemble_pred)\n",
        "            print(\"Now predciting for weights :\", w1/10., w2/10., \" : IOU = \", IOU_wted.result().numpy())\n",
        "            df = df.append(pd.DataFrame({'wt1':wts[0],'wt2':wts[1],\n",
        "                                         'IOU': IOU_wted.result().numpy()}, index=[0]), ignore_index=True)\n",
        "\n",
        "max_iou_row = df.iloc[df['IOU'].idxmax()]\n",
        "print(\"Max IOU of \", max_iou_row[2], \" obtained with w1=\", max_iou_row[0],\n",
        "      \" w2=\", max_iou_row[1])"
      ],
      "metadata": {
        "id": "qnW5XUQH8irm"
      },
      "execution_count": null,
      "outputs": []
    },
    {
      "cell_type": "code",
      "source": [
        "opt_weights = [max_iou_row[0], max_iou_row[1]]\n",
        "\n",
        "#Use tensordot to sum the products of all elements over specified axes.\n",
        "opt_weighted_preds = np.tensordot(preds, opt_weights, axes=((0),(0)))\n",
        "opt_weighted_ensemble_prediction = np.argmax(opt_weighted_preds, axis=3)"
      ],
      "metadata": {
        "id": "G-FaJmXc92Fy"
      },
      "execution_count": null,
      "outputs": []
    },
    {
      "cell_type": "code",
      "source": [
        "#Predict on a few images\n",
        "\n",
        "test_img_number = random.randint(0, len(test_images))\n",
        "test_img = test_images[test_img_number]\n",
        "ground_truth=test_masks[test_img_number]\n",
        "test_img_norm=test_img[:,:,:]\n",
        "test_img_input=np.expand_dims(test_img_norm, 0)\n",
        "\n",
        "#Weighted average ensemble\n",
        "models = [model1, model2]\n",
        "\n",
        "test_img_input1 = preprocess_input1(test_img_input)\n",
        "test_img_input2 = preprocess_input3(test_img_input)\n",
        "\n",
        "test_pred1 = model1.predict(test_img_input1)\n",
        "test_pred2 = model2.predict(test_img_input2)\n",
        "\n",
        "test_preds=np.array([test_pred1, test_pred2])\n",
        "\n",
        "#Use tensordot to sum the products of all elements over specified axes.\n",
        "weighted_test_preds = np.tensordot(test_preds, weights, axes=((0),(0)))\n",
        "weighted_ensemble_test_prediction = np.argmax(weighted_test_preds, axis=3)[0,:,:]"
      ],
      "metadata": {
        "id": "_Rw_sDGz968u"
      },
      "execution_count": null,
      "outputs": []
    },
    {
      "cell_type": "code",
      "source": [
        "plt.figure(figsize=(12, 8))\n",
        "plt.subplot(221)\n",
        "plt.title('Testing Image')\n",
        "plt.imshow(test_img[:,:,0], cmap='gray')\n",
        "\n",
        "plt.subplot(222)\n",
        "plt.title('Prediction on test image')\n",
        "plt.imshow(weighted_ensemble_test_prediction, cmap='jet')\n",
        "plt.show()"
      ],
      "metadata": {
        "id": "vjm8xL055X6l"
      },
      "execution_count": null,
      "outputs": []
    }
  ],
  "metadata": {
    "colab": {
      "provenance": [],
      "include_colab_link": true
    },
    "kernelspec": {
      "display_name": "Python 3",
      "name": "python3"
    },
    "language_info": {
      "name": "python"
    }
  },
  "nbformat": 4,
  "nbformat_minor": 0
}